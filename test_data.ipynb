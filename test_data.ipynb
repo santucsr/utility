{
 "cells": [
  {
   "cell_type": "code",
   "execution_count": 1,
   "id": "af6ff3cb-c2f0-4dfc-ae6b-109295bc1637",
   "metadata": {},
   "outputs": [],
   "source": [
    "import pandas as pd\n",
    "import numpy as np\n",
    "import os,sys\n",
    "import glob\n",
    "import matplotlib.pyplot as plt\n",
    "import seaborn as sns"
   ]
  },
  {
   "cell_type": "code",
   "execution_count": 2,
   "id": "a247469d-7770-454e-94c1-af71cb40fcb9",
   "metadata": {},
   "outputs": [],
   "source": [
    "import warnings\n",
    "warnings.filterwarnings('ignore')\n",
    "import gc"
   ]
  },
  {
   "cell_type": "code",
   "execution_count": 3,
   "id": "e381efd4-a35f-4527-ba76-a23b48d75256",
   "metadata": {},
   "outputs": [],
   "source": [
    "import matplotlib.pyplot as plt\n",
    "import seaborn as sns"
   ]
  },
  {
   "cell_type": "code",
   "execution_count": 4,
   "id": "504a70e9-3007-46a1-a7c5-3f483f015a05",
   "metadata": {},
   "outputs": [],
   "source": [
    "path = os.getcwd()\n",
    "files = glob.glob(os.path.join(path,\"takehome\",\"takehome\",\"data\",\"beijing_2017*\",\"*csv\"))"
   ]
  },
  {
   "cell_type": "code",
   "execution_count": 5,
   "id": "4bc1470d-40d6-4093-858e-a88bc1044838",
   "metadata": {},
   "outputs": [],
   "source": [
    "df = pd.DataFrame()\n",
    "for f in files:\n",
    "    try:\n",
    "        if df.empty:\n",
    "            df = pd.read_csv(f)\n",
    "        else:\n",
    "            df = pd.concat([df,pd.read_csv(f)])\n",
    "    except Exception as e:\n",
    "        print (f\"Error reading {f}. Message is: {e}\")"
   ]
  },
  {
   "cell_type": "code",
   "execution_count": 6,
   "id": "1286c44e-1eac-4179-8915-498d3b1ae36f",
   "metadata": {},
   "outputs": [],
   "source": [
    "df['Datetime'] = pd.to_datetime(df['date'],format='%Y%m%d')+pd.to_timedelta(df['hour'].astype(int), unit='H')\n",
    "df = df.set_index('Datetime')\n",
    "df = df.drop(columns=['date','hour'])"
   ]
  },
  {
   "cell_type": "code",
   "execution_count": 8,
   "id": "8c237df9-5177-4a15-bad5-1e8a1a2780aa",
   "metadata": {},
   "outputs": [],
   "source": [
    "#Question: Do we need to remove all pollutants with suffix '_24h'?\n",
    "pollutant = set(df.type)\n",
    "pollutant.remove('AQI')\n",
    "pollutant = [p for p in pollutant if '24h' not in p]\n",
    "df = df.loc[df['type'].isin(pollutant)]"
   ]
  },
  {
   "cell_type": "code",
   "execution_count": 9,
   "id": "24f1dcd7-4b4e-4b43-b836-2f5c048cadcb",
   "metadata": {},
   "outputs": [],
   "source": [
    "#build a model for '万柳' first\n",
    "subset = df.loc[:,['type','万柳']]\n",
    "subset.sort_values(by = ['Datetime'])\n",
    "subset = subset.pivot_table(values='万柳', index=[df.index], columns='type').rename_axis(None,axis=1).reset_index().set_index('Datetime')"
   ]
  },
  {
   "cell_type": "code",
   "execution_count": 10,
   "id": "21169663-a127-422d-ac50-569fa8535577",
   "metadata": {},
   "outputs": [
    {
     "data": {
      "text/html": [
       "<div>\n",
       "<style scoped>\n",
       "    .dataframe tbody tr th:only-of-type {\n",
       "        vertical-align: middle;\n",
       "    }\n",
       "\n",
       "    .dataframe tbody tr th {\n",
       "        vertical-align: top;\n",
       "    }\n",
       "\n",
       "    .dataframe thead th {\n",
       "        text-align: right;\n",
       "    }\n",
       "</style>\n",
       "<table border=\"1\" class=\"dataframe\">\n",
       "  <thead>\n",
       "    <tr style=\"text-align: right;\">\n",
       "      <th></th>\n",
       "      <th>CO</th>\n",
       "      <th>NO2</th>\n",
       "      <th>O3</th>\n",
       "      <th>PM10</th>\n",
       "      <th>PM2.5</th>\n",
       "      <th>SO2</th>\n",
       "    </tr>\n",
       "    <tr>\n",
       "      <th>Datetime</th>\n",
       "      <th></th>\n",
       "      <th></th>\n",
       "      <th></th>\n",
       "      <th></th>\n",
       "      <th></th>\n",
       "      <th></th>\n",
       "    </tr>\n",
       "  </thead>\n",
       "  <tbody>\n",
       "    <tr>\n",
       "      <th>2017-01-01 22:00:00</th>\n",
       "      <td>7.5</td>\n",
       "      <td>187.0</td>\n",
       "      <td>6.0</td>\n",
       "      <td>518.0</td>\n",
       "      <td>468.0</td>\n",
       "      <td>7.0</td>\n",
       "    </tr>\n",
       "    <tr>\n",
       "      <th>2017-01-01 23:00:00</th>\n",
       "      <td>8.6</td>\n",
       "      <td>186.0</td>\n",
       "      <td>7.0</td>\n",
       "      <td>529.0</td>\n",
       "      <td>459.0</td>\n",
       "      <td>8.0</td>\n",
       "    </tr>\n",
       "    <tr>\n",
       "      <th>2017-01-02 00:00:00</th>\n",
       "      <td>8.2</td>\n",
       "      <td>179.0</td>\n",
       "      <td>7.0</td>\n",
       "      <td>500.0</td>\n",
       "      <td>441.0</td>\n",
       "      <td>7.0</td>\n",
       "    </tr>\n",
       "    <tr>\n",
       "      <th>2017-01-02 01:00:00</th>\n",
       "      <td>8.4</td>\n",
       "      <td>181.0</td>\n",
       "      <td>8.0</td>\n",
       "      <td>523.0</td>\n",
       "      <td>445.0</td>\n",
       "      <td>8.0</td>\n",
       "    </tr>\n",
       "    <tr>\n",
       "      <th>2017-01-02 02:00:00</th>\n",
       "      <td>8.5</td>\n",
       "      <td>181.0</td>\n",
       "      <td>7.0</td>\n",
       "      <td>504.0</td>\n",
       "      <td>440.0</td>\n",
       "      <td>8.0</td>\n",
       "    </tr>\n",
       "    <tr>\n",
       "      <th>...</th>\n",
       "      <td>...</td>\n",
       "      <td>...</td>\n",
       "      <td>...</td>\n",
       "      <td>...</td>\n",
       "      <td>...</td>\n",
       "      <td>...</td>\n",
       "    </tr>\n",
       "    <tr>\n",
       "      <th>2017-04-29 19:00:00</th>\n",
       "      <td>0.3</td>\n",
       "      <td>26.0</td>\n",
       "      <td>115.0</td>\n",
       "      <td>84.0</td>\n",
       "      <td>47.0</td>\n",
       "      <td>3.0</td>\n",
       "    </tr>\n",
       "    <tr>\n",
       "      <th>2017-04-29 20:00:00</th>\n",
       "      <td>0.3</td>\n",
       "      <td>31.0</td>\n",
       "      <td>95.0</td>\n",
       "      <td>116.0</td>\n",
       "      <td>43.0</td>\n",
       "      <td>4.0</td>\n",
       "    </tr>\n",
       "    <tr>\n",
       "      <th>2017-04-29 21:00:00</th>\n",
       "      <td>0.4</td>\n",
       "      <td>50.0</td>\n",
       "      <td>71.0</td>\n",
       "      <td>137.0</td>\n",
       "      <td>51.0</td>\n",
       "      <td>6.0</td>\n",
       "    </tr>\n",
       "    <tr>\n",
       "      <th>2017-04-29 22:00:00</th>\n",
       "      <td>0.5</td>\n",
       "      <td>63.0</td>\n",
       "      <td>60.0</td>\n",
       "      <td>158.0</td>\n",
       "      <td>54.0</td>\n",
       "      <td>8.0</td>\n",
       "    </tr>\n",
       "    <tr>\n",
       "      <th>2017-04-29 23:00:00</th>\n",
       "      <td>0.6</td>\n",
       "      <td>95.0</td>\n",
       "      <td>28.0</td>\n",
       "      <td>179.0</td>\n",
       "      <td>59.0</td>\n",
       "      <td>7.0</td>\n",
       "    </tr>\n",
       "  </tbody>\n",
       "</table>\n",
       "<p>2547 rows × 6 columns</p>\n",
       "</div>"
      ],
      "text/plain": [
       "                      CO    NO2     O3   PM10  PM2.5  SO2\n",
       "Datetime                                                 \n",
       "2017-01-01 22:00:00  7.5  187.0    6.0  518.0  468.0  7.0\n",
       "2017-01-01 23:00:00  8.6  186.0    7.0  529.0  459.0  8.0\n",
       "2017-01-02 00:00:00  8.2  179.0    7.0  500.0  441.0  7.0\n",
       "2017-01-02 01:00:00  8.4  181.0    8.0  523.0  445.0  8.0\n",
       "2017-01-02 02:00:00  8.5  181.0    7.0  504.0  440.0  8.0\n",
       "...                  ...    ...    ...    ...    ...  ...\n",
       "2017-04-29 19:00:00  0.3   26.0  115.0   84.0   47.0  3.0\n",
       "2017-04-29 20:00:00  0.3   31.0   95.0  116.0   43.0  4.0\n",
       "2017-04-29 21:00:00  0.4   50.0   71.0  137.0   51.0  6.0\n",
       "2017-04-29 22:00:00  0.5   63.0   60.0  158.0   54.0  8.0\n",
       "2017-04-29 23:00:00  0.6   95.0   28.0  179.0   59.0  7.0\n",
       "\n",
       "[2547 rows x 6 columns]"
      ]
     },
     "execution_count": 10,
     "metadata": {},
     "output_type": "execute_result"
    }
   ],
   "source": [
    "subset"
   ]
  },
  {
   "cell_type": "code",
   "execution_count": 1,
   "id": "fd213f63-8dcf-42ec-ac32-d746341d03ea",
   "metadata": {},
   "outputs": [
    {
     "ename": "NameError",
     "evalue": "name 'subset' is not defined",
     "output_type": "error",
     "traceback": [
      "\u001b[1;31m---------------------------------------------------------------------------\u001b[0m",
      "\u001b[1;31mNameError\u001b[0m                                 Traceback (most recent call last)",
      "\u001b[1;32m<ipython-input-1-8967ba16b141>\u001b[0m in \u001b[0;36m<module>\u001b[1;34m\u001b[0m\n\u001b[1;32m----> 1\u001b[1;33m \u001b[0msubset\u001b[0m\u001b[1;33m\u001b[0m\u001b[1;33m\u001b[0m\u001b[0m\n\u001b[0m",
      "\u001b[1;31mNameError\u001b[0m: name 'subset' is not defined"
     ]
    }
   ],
   "source": [
    "subset"
   ]
  },
  {
   "cell_type": "code",
   "execution_count": null,
   "id": "7efe4f15-c782-4115-97ac-1b01fab8b12c",
   "metadata": {},
   "outputs": [],
   "source": []
  }
 ],
 "metadata": {
  "kernelspec": {
   "display_name": "Python 3 (ipykernel)",
   "language": "python",
   "name": "python3"
  },
  "language_info": {
   "codemirror_mode": {
    "name": "ipython",
    "version": 3
   },
   "file_extension": ".py",
   "mimetype": "text/x-python",
   "name": "python",
   "nbconvert_exporter": "python",
   "pygments_lexer": "ipython3",
   "version": "3.7.13"
  }
 },
 "nbformat": 4,
 "nbformat_minor": 5
}
